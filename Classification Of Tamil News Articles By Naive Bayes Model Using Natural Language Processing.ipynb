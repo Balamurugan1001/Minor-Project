{
  "nbformat": 4,
  "nbformat_minor": 0,
  "metadata": {
    "colab": {
      "name": "Minor Project revised_.ipynb",
      "provenance": [],
      "collapsed_sections": []
    },
    "kernelspec": {
      "display_name": "Python 3",
      "language": "python",
      "name": "python3"
    },
    "language_info": {
      "codemirror_mode": {
        "name": "ipython",
        "version": 3
      },
      "file_extension": ".py",
      "mimetype": "text/x-python",
      "name": "python",
      "nbconvert_exporter": "python",
      "pygments_lexer": "ipython3",
      "version": "3.8.5"
    }
  },
  "cells": [
    {
      "cell_type": "markdown",
      "metadata": {
        "id": "O_tXv7s_PUIT"
      },
      "source": [
        "# Importing the libraries"
      ]
    },
    {
      "cell_type": "code",
      "metadata": {
        "id": "52x8GRbrPUIV"
      },
      "source": [
        "import numpy as np \n",
        "import pandas as pd "
      ],
      "execution_count": null,
      "outputs": []
    },
    {
      "cell_type": "code",
      "metadata": {
        "id": "CW4m54HKPUIW"
      },
      "source": [
        "import pandas as pd\n",
        "import numpy as np\n",
        "import matplotlib.pyplot as plt\n",
        "import nltk\n",
        "import seaborn as sns\n",
        "from nltk.corpus import stopwords\n",
        "from nltk.tokenize import word_tokenize\n",
        "from sklearn.model_selection import train_test_split\n",
        "from sklearn.preprocessing import LabelBinarizer\n",
        "from keras.preprocessing.text import Tokenizer\n",
        "from keras.preprocessing.sequence import pad_sequences\n",
        "from sklearn.feature_extraction.text import TfidfVectorizer\n",
        "from keras.layers import SpatialDropout1D\n",
        "from sklearn.metrics import accuracy_score\n",
        "from sklearn.metrics import classification_report\n",
        "from sklearn.model_selection import GridSearchCV\n",
        "import re\n",
        "from IPython.core.interactiveshell import InteractiveShell\n",
        "InteractiveShell.ast_node_interactivity = \"all\""
      ],
      "execution_count": null,
      "outputs": []
    },
    {
      "cell_type": "code",
      "metadata": {
        "colab": {
          "base_uri": "https://localhost:8080/"
        },
        "id": "y5KoKckTMtrp",
        "outputId": "0ac6d99a-cccb-4f04-b8ac-75d118b309b9"
      },
      "source": [
        "from google.colab import drive\n",
        "drive.mount('/content/drive',force_remount=True)"
      ],
      "execution_count": null,
      "outputs": [
        {
          "output_type": "stream",
          "name": "stdout",
          "text": [
            "Mounted at /content/drive\n"
          ]
        }
      ]
    },
    {
      "cell_type": "code",
      "metadata": {
        "colab": {
          "base_uri": "https://localhost:8080/"
        },
        "id": "F4iMHYYfxDj6",
        "outputId": "71dcd802-b184-480f-cf57-ef5b8fd2e839"
      },
      "source": [
        "df=pd.read_csv(\"/content/drive/MyDrive/Tamil_30k.zip (Unzipped Files)/Tamil_30k.csv\")\n",
        "df.count()"
      ],
      "execution_count": null,
      "outputs": [
        {
          "output_type": "execute_result",
          "data": {
            "text/plain": [
              "index              30000\n",
              "website            30000\n",
              "section            10428\n",
              "sub_section            0\n",
              "article_url        30000\n",
              "title              30000\n",
              "author             30000\n",
              "author_link        30000\n",
              "published_date     30000\n",
              "hashtag            30000\n",
              "article_summary        0\n",
              "text               29541\n",
              "image_url          30000\n",
              "crawl_date         30000\n",
              "Category           30000\n",
              "dtype: int64"
            ]
          },
          "metadata": {},
          "execution_count": 8
        }
      ]
    },
    {
      "cell_type": "code",
      "metadata": {
        "colab": {
          "base_uri": "https://localhost:8080/"
        },
        "id": "4L1owN4vrCfa",
        "outputId": "ee703dea-25ea-446d-d323-77508ddb77a1"
      },
      "source": [
        "df.website.value_counts()"
      ],
      "execution_count": null,
      "outputs": [
        {
          "output_type": "execute_result",
          "data": {
            "text/plain": [
              "www.toptamilnews.com    23659\n",
              "ttncinema.com            6341\n",
              "Name: website, dtype: int64"
            ]
          },
          "metadata": {},
          "execution_count": 9
        }
      ]
    },
    {
      "cell_type": "code",
      "metadata": {
        "id": "7E5aCEO5RfnE"
      },
      "source": [
        "df=df.drop(['website', 'section'\t,'sub_section','article_url'\t,'title'\t,'author','author_link','published_date','hashtag','article_summary','image_url'\t,'crawl_date'], axis=1)"
      ],
      "execution_count": null,
      "outputs": []
    },
    {
      "cell_type": "code",
      "metadata": {
        "colab": {
          "base_uri": "https://localhost:8080/"
        },
        "id": "tcXtco9VQKvU",
        "outputId": "af8ac260-8040-45b7-fbb4-2dc270dd2995"
      },
      "source": [
        "df.Category.value_counts()"
      ],
      "execution_count": null,
      "outputs": [
        {
          "output_type": "execute_result",
          "data": {
            "text/plain": [
              "health           9752\n",
              "others           5713\n",
              "entertainment    4631\n",
              "crime            3785\n",
              "politics         2767\n",
              "sport             890\n",
              "science           876\n",
              "business          738\n",
              "world             381\n",
              "education         239\n",
              "social            228\n",
              "Name: Category, dtype: int64"
            ]
          },
          "metadata": {},
          "execution_count": 11
        }
      ]
    },
    {
      "cell_type": "code",
      "metadata": {
        "colab": {
          "base_uri": "https://localhost:8080/",
          "height": 206
        },
        "id": "rD91rhK0Bx8k",
        "outputId": "90a890e9-7cc5-46af-d8ba-dcab8e6925d4"
      },
      "source": [
        "df.head()"
      ],
      "execution_count": null,
      "outputs": [
        {
          "output_type": "execute_result",
          "data": {
            "text/html": [
              "<div>\n",
              "<style scoped>\n",
              "    .dataframe tbody tr th:only-of-type {\n",
              "        vertical-align: middle;\n",
              "    }\n",
              "\n",
              "    .dataframe tbody tr th {\n",
              "        vertical-align: top;\n",
              "    }\n",
              "\n",
              "    .dataframe thead th {\n",
              "        text-align: right;\n",
              "    }\n",
              "</style>\n",
              "<table border=\"1\" class=\"dataframe\">\n",
              "  <thead>\n",
              "    <tr style=\"text-align: right;\">\n",
              "      <th></th>\n",
              "      <th>index</th>\n",
              "      <th>text</th>\n",
              "      <th>Category</th>\n",
              "    </tr>\n",
              "  </thead>\n",
              "  <tbody>\n",
              "    <tr>\n",
              "      <th>0</th>\n",
              "      <td>0</td>\n",
              "      <td>சந்தோஷ் சிவன் இயக்கத்தில் வெளியான ‘இனம்’ திரைப...</td>\n",
              "      <td>entertainment</td>\n",
              "    </tr>\n",
              "    <tr>\n",
              "      <th>1</th>\n",
              "      <td>1</td>\n",
              "      <td>‘தி பேமிலி மேன்’ வெப் சீரிஸ் இரண்டாம் பாகத்தின...</td>\n",
              "      <td>entertainment</td>\n",
              "    </tr>\n",
              "    <tr>\n",
              "      <th>2</th>\n",
              "      <td>2</td>\n",
              "      <td>தூத்துக்குடி தூத்துக்குடி மாவட்டம் விளாத்திகுள...</td>\n",
              "      <td>crime</td>\n",
              "    </tr>\n",
              "    <tr>\n",
              "      <th>3</th>\n",
              "      <td>3</td>\n",
              "      <td>தூத்துக்குடி தூத்துக்குடி மாவட்டம் விளாத்திகுள...</td>\n",
              "      <td>crime</td>\n",
              "    </tr>\n",
              "    <tr>\n",
              "      <th>4</th>\n",
              "      <td>4</td>\n",
              "      <td>தமிழகத்தில் நாளுக்கு நாள் கொரோனா பரவல் அதிகரித...</td>\n",
              "      <td>health</td>\n",
              "    </tr>\n",
              "  </tbody>\n",
              "</table>\n",
              "</div>"
            ],
            "text/plain": [
              "   index                                               text       Category\n",
              "0      0  சந்தோஷ் சிவன் இயக்கத்தில் வெளியான ‘இனம்’ திரைப...  entertainment\n",
              "1      1  ‘தி பேமிலி மேன்’ வெப் சீரிஸ் இரண்டாம் பாகத்தின...  entertainment\n",
              "2      2  தூத்துக்குடி தூத்துக்குடி மாவட்டம் விளாத்திகுள...          crime\n",
              "3      3  தூத்துக்குடி தூத்துக்குடி மாவட்டம் விளாத்திகுள...          crime\n",
              "4      4  தமிழகத்தில் நாளுக்கு நாள் கொரோனா பரவல் அதிகரித...         health"
            ]
          },
          "metadata": {},
          "execution_count": 12
        }
      ]
    },
    {
      "cell_type": "code",
      "metadata": {
        "colab": {
          "base_uri": "https://localhost:8080/"
        },
        "id": "R-C7_AdWtElj",
        "outputId": "60d58a20-8ad4-475e-fc18-c00cf4bbc195"
      },
      "source": [
        "target_category = df['Category'].unique()\n",
        "target_category"
      ],
      "execution_count": null,
      "outputs": [
        {
          "output_type": "execute_result",
          "data": {
            "text/plain": [
              "array(['entertainment', 'crime', 'health', 'others', 'sport', 'world',\n",
              "       'business', 'politics', 'education', 'social', 'science'],\n",
              "      dtype=object)"
            ]
          },
          "metadata": {},
          "execution_count": 13
        }
      ]
    },
    {
      "cell_type": "code",
      "metadata": {
        "colab": {
          "base_uri": "https://localhost:8080/",
          "height": 424
        },
        "id": "xSHURJALOswW",
        "outputId": "10c53540-ecd2-44b0-95db-01cccd016d9c"
      },
      "source": [
        "df['categoryId'] = df['Category'].factorize()[0]\n",
        "df\n"
      ],
      "execution_count": null,
      "outputs": [
        {
          "output_type": "execute_result",
          "data": {
            "text/html": [
              "<div>\n",
              "<style scoped>\n",
              "    .dataframe tbody tr th:only-of-type {\n",
              "        vertical-align: middle;\n",
              "    }\n",
              "\n",
              "    .dataframe tbody tr th {\n",
              "        vertical-align: top;\n",
              "    }\n",
              "\n",
              "    .dataframe thead th {\n",
              "        text-align: right;\n",
              "    }\n",
              "</style>\n",
              "<table border=\"1\" class=\"dataframe\">\n",
              "  <thead>\n",
              "    <tr style=\"text-align: right;\">\n",
              "      <th></th>\n",
              "      <th>index</th>\n",
              "      <th>text</th>\n",
              "      <th>Category</th>\n",
              "      <th>categoryId</th>\n",
              "    </tr>\n",
              "  </thead>\n",
              "  <tbody>\n",
              "    <tr>\n",
              "      <th>0</th>\n",
              "      <td>0</td>\n",
              "      <td>சந்தோஷ் சிவன் இயக்கத்தில் வெளியான ‘இனம்’ திரைப...</td>\n",
              "      <td>entertainment</td>\n",
              "      <td>0</td>\n",
              "    </tr>\n",
              "    <tr>\n",
              "      <th>1</th>\n",
              "      <td>1</td>\n",
              "      <td>‘தி பேமிலி மேன்’ வெப் சீரிஸ் இரண்டாம் பாகத்தின...</td>\n",
              "      <td>entertainment</td>\n",
              "      <td>0</td>\n",
              "    </tr>\n",
              "    <tr>\n",
              "      <th>2</th>\n",
              "      <td>2</td>\n",
              "      <td>தூத்துக்குடி தூத்துக்குடி மாவட்டம் விளாத்திகுள...</td>\n",
              "      <td>crime</td>\n",
              "      <td>1</td>\n",
              "    </tr>\n",
              "    <tr>\n",
              "      <th>3</th>\n",
              "      <td>3</td>\n",
              "      <td>தூத்துக்குடி தூத்துக்குடி மாவட்டம் விளாத்திகுள...</td>\n",
              "      <td>crime</td>\n",
              "      <td>1</td>\n",
              "    </tr>\n",
              "    <tr>\n",
              "      <th>4</th>\n",
              "      <td>4</td>\n",
              "      <td>தமிழகத்தில் நாளுக்கு நாள் கொரோனா பரவல் அதிகரித...</td>\n",
              "      <td>health</td>\n",
              "      <td>2</td>\n",
              "    </tr>\n",
              "    <tr>\n",
              "      <th>...</th>\n",
              "      <td>...</td>\n",
              "      <td>...</td>\n",
              "      <td>...</td>\n",
              "      <td>...</td>\n",
              "    </tr>\n",
              "    <tr>\n",
              "      <th>29995</th>\n",
              "      <td>29995</td>\n",
              "      <td>பிரபல சீரியல் நடிகர் குட்டி ரமேஷ் திடீரென உயிர...</td>\n",
              "      <td>entertainment</td>\n",
              "      <td>0</td>\n",
              "    </tr>\n",
              "    <tr>\n",
              "      <th>29996</th>\n",
              "      <td>29996</td>\n",
              "      <td>ராம்ஜான் திருநாளையொட்டி அருண் விஜய் நடித்துள்ள...</td>\n",
              "      <td>entertainment</td>\n",
              "      <td>0</td>\n",
              "    </tr>\n",
              "    <tr>\n",
              "      <th>29997</th>\n",
              "      <td>29997</td>\n",
              "      <td>சந்தோஷ் சிவன் இயக்கத்தில் வெளியான ‘இனம்’ திரைப...</td>\n",
              "      <td>entertainment</td>\n",
              "      <td>0</td>\n",
              "    </tr>\n",
              "    <tr>\n",
              "      <th>29998</th>\n",
              "      <td>29998</td>\n",
              "      <td>‘மூடர் கூடம்’ இயக்குனர் நவீனின் பிறந்தநாளில் ப...</td>\n",
              "      <td>entertainment</td>\n",
              "      <td>0</td>\n",
              "    </tr>\n",
              "    <tr>\n",
              "      <th>29999</th>\n",
              "      <td>29999</td>\n",
              "      <td>கொரானா நிவாரண நிதியாக ரூபாய் 5 லட்சத்தை முதலமை...</td>\n",
              "      <td>health</td>\n",
              "      <td>2</td>\n",
              "    </tr>\n",
              "  </tbody>\n",
              "</table>\n",
              "<p>30000 rows × 4 columns</p>\n",
              "</div>"
            ],
            "text/plain": [
              "       index  ... categoryId\n",
              "0          0  ...          0\n",
              "1          1  ...          0\n",
              "2          2  ...          1\n",
              "3          3  ...          1\n",
              "4          4  ...          2\n",
              "...      ...  ...        ...\n",
              "29995  29995  ...          0\n",
              "29996  29996  ...          0\n",
              "29997  29997  ...          0\n",
              "29998  29998  ...          0\n",
              "29999  29999  ...          2\n",
              "\n",
              "[30000 rows x 4 columns]"
            ]
          },
          "metadata": {},
          "execution_count": 14
        }
      ]
    },
    {
      "cell_type": "code",
      "metadata": {
        "colab": {
          "base_uri": "https://localhost:8080/",
          "height": 358
        },
        "id": "1Cp43370Oz5u",
        "outputId": "82d5dee5-b127-4299-bc98-88ac1f7db1a2"
      },
      "source": [
        "df.groupby('Category').categoryId.count().plot.bar(ylim=0)"
      ],
      "execution_count": null,
      "outputs": [
        {
          "output_type": "execute_result",
          "data": {
            "text/plain": [
              "<matplotlib.axes._subplots.AxesSubplot at 0x7fb6da8e0550>"
            ]
          },
          "metadata": {},
          "execution_count": 15
        },
        {
          "output_type": "display_data",
          "data": {
            "image/png": "[encoded data removed]",
            "text/plain": [
              "<Figure size 432x288 with 1 Axes>"
            ]
          },
          "metadata": {
            "needs_background": "light"
          }
        }
      ]
    },
    {
      "cell_type": "code",
      "metadata": {
        "colab": {
          "base_uri": "https://localhost:8080/"
        },
        "id": "BHtN9kHUtGqO",
        "outputId": "2c8d987a-83e6-4347-b8f8-8b3dbc35133f"
      },
      "source": [
        "from google.colab import drive\n",
        "drive.mount('/content/drive')"
      ],
      "execution_count": null,
      "outputs": [
        {
          "output_type": "stream",
          "name": "stdout",
          "text": [
            "Drive already mounted at /content/drive; to attempt to forcibly remount, call drive.mount(\"/content/drive\", force_remount=True).\n"
          ]
        }
      ]
    },
    {
      "cell_type": "code",
      "metadata": {
        "id": "hCg9aVy2xS5i"
      },
      "source": [
        "from sklearn.model_selection import train_test_split\n",
        "\n",
        "# split the data into test and train by maintaining same distribution of output varaible 'y_true' [stratify=y_true]\n",
        "X_train1, X_test, y_train1, y_test = train_test_split(df, df.Category, stratify=df.Category, test_size=0.2,random_state=42)\n",
        "# split the train data into train and cross validation by maintaining same distribution of output varaible 'y_train' [stratify=y_train]\n",
        "X_train, X_train_cv, y_train, y_train_cv = train_test_split(X_train1, y_train1, stratify=y_train1, test_size=0.2,random_state= 42)"
      ],
      "execution_count": null,
      "outputs": []
    },
    {
      "cell_type": "code",
      "metadata": {
        "colab": {
          "base_uri": "https://localhost:8080/"
        },
        "id": "cOVfRwuySXfk",
        "outputId": "39aebdfe-270d-46c1-a079-1d126fed2e9e"
      },
      "source": [
        "print(X_train.shape,y_train.shape)\n",
        "print(X_train_cv.shape,y_train_cv.shape)\n",
        "print(X_test.shape,y_test.shape)"
      ],
      "execution_count": null,
      "outputs": [
        {
          "output_type": "stream",
          "name": "stdout",
          "text": [
            "(19200, 4) (19200,)\n",
            "(4800, 4) (4800,)\n",
            "(6000, 4) (6000,)\n"
          ]
        }
      ]
    },
    {
      "cell_type": "code",
      "metadata": {
        "id": "eGAXF_-SB2bi"
      },
      "source": [
        "from tqdm import *\n",
        "\n",
        "class Data_cleaner:\n",
        "  def Data_Cleaning(self,text):\n",
        "\n",
        "    #text cleaning\n",
        "    text=re.sub(r'(\\d+)',r'',text)\n",
        "    text=text.replace(u',','')\n",
        "    text=text.replace(u'\"','')\n",
        "    text=text.replace(u'(','')\n",
        "    text=text.replace(u')','')\n",
        "    text=text.replace(u'\"','')\n",
        "    text=text.replace(u':','') \n",
        "    text=text.replace(u\"'\",'')\n",
        "    text=text.replace(u\"‘‘\",'')\n",
        "    text=text.replace(u\"’’\",'')\n",
        "    text=text.replace(u\"''\",'')\n",
        "    text=text.replace(u\".\",'')\n",
        "    text=text.replace(u\"*\",'')\n",
        "    text=text.replace(u\"#\",'')\n",
        "    text=text.replace(u'\"','')\n",
        "    text=text.replace(u\":\",'')\n",
        "    text=text.replace(u\"|\",'')\n",
        "    text=text.replace(u\":\",\"\")\n",
        "    text=text.replace(u'\"',\"\")\n",
        "    text = re.sub('\\s+',' ', text)\n",
        "    #Split the sentences\n",
        "    sentences=text.split(u\"।\")\n",
        "    #print(sentences)\n",
        "    #Tokenizing\n",
        "    sentences_list=sentences\n",
        "    tokens=[]\n",
        "\n",
        "    for each in sentences_list:\n",
        "            word_list=each.split(' ')\n",
        "            tokens=tokens+word_list\n",
        "    #Remove token with only space\n",
        "    for tok in tokens:\n",
        "        tok=tok.strip()\n",
        "    #Remove hyphens in tokes\n",
        "    for each in tokens:\n",
        "        if '-' in each:\n",
        "              tok=each.split('-')\n",
        "              tokens.remove(each)\n",
        "              tokens.append(tok[0])\n",
        "              tokens.append(tok[1])\n",
        "\n",
        "    tokens = [i.lower() for i in tokens]\n",
        "    return tokens\n",
        "  def Text_joiner(self,txt):\n",
        "    lst = ' '.join(self.Data_Cleaning(txt))\n",
        "    return lst\n",
        "\n",
        "  #you need to pass the text data only\n",
        "  def Structured_Data(self,sen):\n",
        "      lst3 = []\n",
        "      for i in tqdm(range(len(sen))):\n",
        "          lst1 = self.Text_joiner(sen[i])\n",
        "          lst3.append(lst1)\n",
        "      return lst3"
      ],
      "execution_count": null,
      "outputs": []
    },
    {
      "cell_type": "code",
      "metadata": {
        "id": "k82oCfbaCUqy"
      },
      "source": [
        "X_train.loc[:,'text']=X_train.loc[:,'text'].apply(str)"
      ],
      "execution_count": null,
      "outputs": []
    },
    {
      "cell_type": "code",
      "metadata": {
        "id": "b02q-pBMB2Su"
      },
      "source": [
        "cl = Data_cleaner()"
      ],
      "execution_count": null,
      "outputs": []
    },
    {
      "cell_type": "code",
      "metadata": {
        "colab": {
          "base_uri": "https://localhost:8080/"
        },
        "id": "Cunedel7B2I1",
        "outputId": "d12e13bc-ac56-4c74-ec12-b76ce2af8cbe"
      },
      "source": [
        "lstt = cl.Structured_Data(X_train.text.values)"
      ],
      "execution_count": null,
      "outputs": [
        {
          "output_type": "stream",
          "name": "stderr",
          "text": [
            "100%|██████████| 19200/19200 [00:04<00:00, 4574.91it/s]\n"
          ]
        }
      ]
    },
    {
      "cell_type": "code",
      "metadata": {
        "id": "EXglBcpyCwJ5"
      },
      "source": [
        "X_train['cleaned_text'] = lstt"
      ],
      "execution_count": null,
      "outputs": []
    },
    {
      "cell_type": "code",
      "metadata": {
        "colab": {
          "base_uri": "https://localhost:8080/",
          "height": 424
        },
        "id": "7-CGkOnFC3E5",
        "outputId": "54263627-15f1-4851-e2b1-7364af9142e2"
      },
      "source": [
        "\n",
        "X=X_train.drop(['Category','categoryId','index'],axis=1)\n",
        "X"
      ],
      "execution_count": null,
      "outputs": [
        {
          "output_type": "execute_result",
          "data": {
            "text/html": [
              "<div>\n",
              "<style scoped>\n",
              "    .dataframe tbody tr th:only-of-type {\n",
              "        vertical-align: middle;\n",
              "    }\n",
              "\n",
              "    .dataframe tbody tr th {\n",
              "        vertical-align: top;\n",
              "    }\n",
              "\n",
              "    .dataframe thead th {\n",
              "        text-align: right;\n",
              "    }\n",
              "</style>\n",
              "<table border=\"1\" class=\"dataframe\">\n",
              "  <thead>\n",
              "    <tr style=\"text-align: right;\">\n",
              "      <th></th>\n",
              "      <th>text</th>\n",
              "      <th>cleaned_text</th>\n",
              "    </tr>\n",
              "  </thead>\n",
              "  <tbody>\n",
              "    <tr>\n",
              "      <th>28677</th>\n",
              "      <td>எதிர்வரும் ஆகஸ்ட் முதல் டிசம்பருக்குள் 216 கோட...</td>\n",
              "      <td>எதிர்வரும் ஆகஸ்ட் முதல் டிசம்பருக்குள் கோடி தட...</td>\n",
              "    </tr>\n",
              "    <tr>\n",
              "      <th>622</th>\n",
              "      <td>கொரோனா பரவலை மீறி கடந்த ஆண்டு துபாயில் வெற்றிக...</td>\n",
              "      <td>கொரோனா பரவலை மீறி கடந்த ஆண்டு துபாயில் வெற்றிக...</td>\n",
              "    </tr>\n",
              "    <tr>\n",
              "      <th>4250</th>\n",
              "      <td>தன்னை சந்திக்க வருபவர்கள் பூங்கொத்து கொடுப்பதை...</td>\n",
              "      <td>தன்னை சந்திக்க வருபவர்கள் பூங்கொத்து கொடுப்பதை...</td>\n",
              "    </tr>\n",
              "    <tr>\n",
              "      <th>1100</th>\n",
              "      <td>தமிழ்நாடு முழுவதும் அரசு மருத்துவமனைகளிலும், த...</td>\n",
              "      <td>தமிழ்நாடு முழுவதும் அரசு மருத்துவமனைகளிலும் தன...</td>\n",
              "    </tr>\n",
              "    <tr>\n",
              "      <th>22013</th>\n",
              "      <td>கிருஷ்ணகிரி கிருஷ்ணகிரி அருகே கடன் தொல்லையால் ...</td>\n",
              "      <td>கிருஷ்ணகிரி கிருஷ்ணகிரி அருகே கடன் தொல்லையால் ...</td>\n",
              "    </tr>\n",
              "    <tr>\n",
              "      <th>...</th>\n",
              "      <td>...</td>\n",
              "      <td>...</td>\n",
              "    </tr>\n",
              "    <tr>\n",
              "      <th>6631</th>\n",
              "      <td>கொரோனா இரண்டாவது அலையில் சினிமா பிரபலங்களும், ...</td>\n",
              "      <td>கொரோனா இரண்டாவது அலையில் சினிமா பிரபலங்களும் அ...</td>\n",
              "    </tr>\n",
              "    <tr>\n",
              "      <th>13413</th>\n",
              "      <td>சட்டமன்ற தேர்தலில் திமுக வெற்றி பெற்றதையடுத்து...</td>\n",
              "      <td>சட்டமன்ற தேர்தலில் திமுக வெற்றி பெற்றதையடுத்து...</td>\n",
              "    </tr>\n",
              "    <tr>\n",
              "      <th>29835</th>\n",
              "      <td>மதுரை யாதவர் கல்லூரியில் சித்த மருத்துவ சிகிச்...</td>\n",
              "      <td>மதுரை யாதவர் கல்லூரியில் சித்த மருத்துவ சிகிச்...</td>\n",
              "    </tr>\n",
              "    <tr>\n",
              "      <th>9417</th>\n",
              "      <td>கள்ளக்குறிச்சி கள்ளக்குறிச்சி அருகே கள்ளக்காதல...</td>\n",
              "      <td>கள்ளக்குறிச்சி கள்ளக்குறிச்சி அருகே கள்ளக்காதல...</td>\n",
              "    </tr>\n",
              "    <tr>\n",
              "      <th>693</th>\n",
              "      <td>தமிழ்நாடு முழுவதும் அரசு மருத்துவமனைகளிலும், த...</td>\n",
              "      <td>தமிழ்நாடு முழுவதும் அரசு மருத்துவமனைகளிலும் தன...</td>\n",
              "    </tr>\n",
              "  </tbody>\n",
              "</table>\n",
              "<p>19200 rows × 2 columns</p>\n",
              "</div>"
            ],
            "text/plain": [
              "                                                    text                                       cleaned_text\n",
              "28677  எதிர்வரும் ஆகஸ்ட் முதல் டிசம்பருக்குள் 216 கோட...  எதிர்வரும் ஆகஸ்ட் முதல் டிசம்பருக்குள் கோடி தட...\n",
              "622    கொரோனா பரவலை மீறி கடந்த ஆண்டு துபாயில் வெற்றிக...  கொரோனா பரவலை மீறி கடந்த ஆண்டு துபாயில் வெற்றிக...\n",
              "4250   தன்னை சந்திக்க வருபவர்கள் பூங்கொத்து கொடுப்பதை...  தன்னை சந்திக்க வருபவர்கள் பூங்கொத்து கொடுப்பதை...\n",
              "1100   தமிழ்நாடு முழுவதும் அரசு மருத்துவமனைகளிலும், த...  தமிழ்நாடு முழுவதும் அரசு மருத்துவமனைகளிலும் தன...\n",
              "22013  கிருஷ்ணகிரி கிருஷ்ணகிரி அருகே கடன் தொல்லையால் ...  கிருஷ்ணகிரி கிருஷ்ணகிரி அருகே கடன் தொல்லையால் ...\n",
              "...                                                  ...                                                ...\n",
              "6631   கொரோனா இரண்டாவது அலையில் சினிமா பிரபலங்களும், ...  கொரோனா இரண்டாவது அலையில் சினிமா பிரபலங்களும் அ...\n",
              "13413  சட்டமன்ற தேர்தலில் திமுக வெற்றி பெற்றதையடுத்து...  சட்டமன்ற தேர்தலில் திமுக வெற்றி பெற்றதையடுத்து...\n",
              "29835  மதுரை யாதவர் கல்லூரியில் சித்த மருத்துவ சிகிச்...  மதுரை யாதவர் கல்லூரியில் சித்த மருத்துவ சிகிச்...\n",
              "9417   கள்ளக்குறிச்சி கள்ளக்குறிச்சி அருகே கள்ளக்காதல...  கள்ளக்குறிச்சி கள்ளக்குறிச்சி அருகே கள்ளக்காதல...\n",
              "693    தமிழ்நாடு முழுவதும் அரசு மருத்துவமனைகளிலும், த...  தமிழ்நாடு முழுவதும் அரசு மருத்துவமனைகளிலும் தன...\n",
              "\n",
              "[19200 rows x 2 columns]"
            ]
          },
          "metadata": {},
          "execution_count": 24
        }
      ]
    },
    {
      "cell_type": "code",
      "metadata": {
        "id": "32961lg1Ca4Z"
      },
      "source": [
        ""
      ],
      "execution_count": null,
      "outputs": []
    },
    {
      "cell_type": "code",
      "metadata": {
        "colab": {
          "base_uri": "https://localhost:8080/",
          "height": 424
        },
        "id": "bE4L1knXC29-",
        "outputId": "fdf48ba2-4b85-4595-b28a-cd8cf1bdb216"
      },
      "source": [
        "X_train['cleaned_text'] = lstt\n",
        "X_train"
      ],
      "execution_count": null,
      "outputs": [
        {
          "output_type": "execute_result",
          "data": {
            "text/html": [
              "<div>\n",
              "<style scoped>\n",
              "    .dataframe tbody tr th:only-of-type {\n",
              "        vertical-align: middle;\n",
              "    }\n",
              "\n",
              "    .dataframe tbody tr th {\n",
              "        vertical-align: top;\n",
              "    }\n",
              "\n",
              "    .dataframe thead th {\n",
              "        text-align: right;\n",
              "    }\n",
              "</style>\n",
              "<table border=\"1\" class=\"dataframe\">\n",
              "  <thead>\n",
              "    <tr style=\"text-align: right;\">\n",
              "      <th></th>\n",
              "      <th>index</th>\n",
              "      <th>text</th>\n",
              "      <th>Category</th>\n",
              "      <th>categoryId</th>\n",
              "      <th>cleaned_text</th>\n",
              "    </tr>\n",
              "  </thead>\n",
              "  <tbody>\n",
              "    <tr>\n",
              "      <th>28677</th>\n",
              "      <td>28677</td>\n",
              "      <td>எதிர்வரும் ஆகஸ்ட் முதல் டிசம்பருக்குள் 216 கோட...</td>\n",
              "      <td>politics</td>\n",
              "      <td>7</td>\n",
              "      <td>எதிர்வரும் ஆகஸ்ட் முதல் டிசம்பருக்குள் கோடி தட...</td>\n",
              "    </tr>\n",
              "    <tr>\n",
              "      <th>622</th>\n",
              "      <td>622</td>\n",
              "      <td>கொரோனா பரவலை மீறி கடந்த ஆண்டு துபாயில் வெற்றிக...</td>\n",
              "      <td>sport</td>\n",
              "      <td>4</td>\n",
              "      <td>கொரோனா பரவலை மீறி கடந்த ஆண்டு துபாயில் வெற்றிக...</td>\n",
              "    </tr>\n",
              "    <tr>\n",
              "      <th>4250</th>\n",
              "      <td>4250</td>\n",
              "      <td>தன்னை சந்திக்க வருபவர்கள் பூங்கொத்து கொடுப்பதை...</td>\n",
              "      <td>politics</td>\n",
              "      <td>7</td>\n",
              "      <td>தன்னை சந்திக்க வருபவர்கள் பூங்கொத்து கொடுப்பதை...</td>\n",
              "    </tr>\n",
              "    <tr>\n",
              "      <th>1100</th>\n",
              "      <td>1100</td>\n",
              "      <td>தமிழ்நாடு முழுவதும் அரசு மருத்துவமனைகளிலும், த...</td>\n",
              "      <td>health</td>\n",
              "      <td>2</td>\n",
              "      <td>தமிழ்நாடு முழுவதும் அரசு மருத்துவமனைகளிலும் தன...</td>\n",
              "    </tr>\n",
              "    <tr>\n",
              "      <th>22013</th>\n",
              "      <td>22013</td>\n",
              "      <td>கிருஷ்ணகிரி கிருஷ்ணகிரி அருகே கடன் தொல்லையால் ...</td>\n",
              "      <td>crime</td>\n",
              "      <td>1</td>\n",
              "      <td>கிருஷ்ணகிரி கிருஷ்ணகிரி அருகே கடன் தொல்லையால் ...</td>\n",
              "    </tr>\n",
              "    <tr>\n",
              "      <th>...</th>\n",
              "      <td>...</td>\n",
              "      <td>...</td>\n",
              "      <td>...</td>\n",
              "      <td>...</td>\n",
              "      <td>...</td>\n",
              "    </tr>\n",
              "    <tr>\n",
              "      <th>6631</th>\n",
              "      <td>6631</td>\n",
              "      <td>கொரோனா இரண்டாவது அலையில் சினிமா பிரபலங்களும், ...</td>\n",
              "      <td>health</td>\n",
              "      <td>2</td>\n",
              "      <td>கொரோனா இரண்டாவது அலையில் சினிமா பிரபலங்களும் அ...</td>\n",
              "    </tr>\n",
              "    <tr>\n",
              "      <th>13413</th>\n",
              "      <td>13413</td>\n",
              "      <td>சட்டமன்ற தேர்தலில் திமுக வெற்றி பெற்றதையடுத்து...</td>\n",
              "      <td>politics</td>\n",
              "      <td>7</td>\n",
              "      <td>சட்டமன்ற தேர்தலில் திமுக வெற்றி பெற்றதையடுத்து...</td>\n",
              "    </tr>\n",
              "    <tr>\n",
              "      <th>29835</th>\n",
              "      <td>29835</td>\n",
              "      <td>மதுரை யாதவர் கல்லூரியில் சித்த மருத்துவ சிகிச்...</td>\n",
              "      <td>health</td>\n",
              "      <td>2</td>\n",
              "      <td>மதுரை யாதவர் கல்லூரியில் சித்த மருத்துவ சிகிச்...</td>\n",
              "    </tr>\n",
              "    <tr>\n",
              "      <th>9417</th>\n",
              "      <td>9417</td>\n",
              "      <td>கள்ளக்குறிச்சி கள்ளக்குறிச்சி அருகே கள்ளக்காதல...</td>\n",
              "      <td>crime</td>\n",
              "      <td>1</td>\n",
              "      <td>கள்ளக்குறிச்சி கள்ளக்குறிச்சி அருகே கள்ளக்காதல...</td>\n",
              "    </tr>\n",
              "    <tr>\n",
              "      <th>693</th>\n",
              "      <td>693</td>\n",
              "      <td>தமிழ்நாடு முழுவதும் அரசு மருத்துவமனைகளிலும், த...</td>\n",
              "      <td>health</td>\n",
              "      <td>2</td>\n",
              "      <td>தமிழ்நாடு முழுவதும் அரசு மருத்துவமனைகளிலும் தன...</td>\n",
              "    </tr>\n",
              "  </tbody>\n",
              "</table>\n",
              "<p>19200 rows × 5 columns</p>\n",
              "</div>"
            ],
            "text/plain": [
              "       index  ...                                       cleaned_text\n",
              "28677  28677  ...  எதிர்வரும் ஆகஸ்ட் முதல் டிசம்பருக்குள் கோடி தட...\n",
              "622      622  ...  கொரோனா பரவலை மீறி கடந்த ஆண்டு துபாயில் வெற்றிக...\n",
              "4250    4250  ...  தன்னை சந்திக்க வருபவர்கள் பூங்கொத்து கொடுப்பதை...\n",
              "1100    1100  ...  தமிழ்நாடு முழுவதும் அரசு மருத்துவமனைகளிலும் தன...\n",
              "22013  22013  ...  கிருஷ்ணகிரி கிருஷ்ணகிரி அருகே கடன் தொல்லையால் ...\n",
              "...      ...  ...                                                ...\n",
              "6631    6631  ...  கொரோனா இரண்டாவது அலையில் சினிமா பிரபலங்களும் அ...\n",
              "13413  13413  ...  சட்டமன்ற தேர்தலில் திமுக வெற்றி பெற்றதையடுத்து...\n",
              "29835  29835  ...  மதுரை யாதவர் கல்லூரியில் சித்த மருத்துவ சிகிச்...\n",
              "9417    9417  ...  கள்ளக்குறிச்சி கள்ளக்குறிச்சி அருகே கள்ளக்காதல...\n",
              "693      693  ...  தமிழ்நாடு முழுவதும் அரசு மருத்துவமனைகளிலும் தன...\n",
              "\n",
              "[19200 rows x 5 columns]"
            ]
          },
          "metadata": {},
          "execution_count": 25
        }
      ]
    },
    {
      "cell_type": "code",
      "metadata": {
        "id": "mWznt-cZDPK_"
      },
      "source": [
        "X_train_cv.loc[:,'text']=X_train_cv.loc[:,'text'].apply(str)"
      ],
      "execution_count": null,
      "outputs": []
    },
    {
      "cell_type": "code",
      "metadata": {
        "colab": {
          "base_uri": "https://localhost:8080/"
        },
        "id": "zIi6sjn7DGWD",
        "outputId": "51e105b2-688e-417b-eb71-66c9fbca9b83"
      },
      "source": [
        "d_cv = cl.Structured_Data(X_train_cv.text.values)"
      ],
      "execution_count": null,
      "outputs": [
        {
          "output_type": "stream",
          "name": "stderr",
          "text": [
            "100%|██████████| 4800/4800 [00:01<00:00, 4452.65it/s]\n"
          ]
        }
      ]
    },
    {
      "cell_type": "code",
      "metadata": {
        "id": "5ybkQU7WDaWl"
      },
      "source": [
        "X_train_cv.loc[:,\"cleaned_text\"] = d_cv"
      ],
      "execution_count": null,
      "outputs": []
    },
    {
      "cell_type": "code",
      "metadata": {
        "colab": {
          "base_uri": "https://localhost:8080/",
          "height": 206
        },
        "id": "JJ43IsGaDgKP",
        "outputId": "97bac86a-64c5-41e0-f8fe-568acdedf773"
      },
      "source": [
        "\n",
        "X_train_cv.head()"
      ],
      "execution_count": null,
      "outputs": [
        {
          "output_type": "execute_result",
          "data": {
            "text/html": [
              "<div>\n",
              "<style scoped>\n",
              "    .dataframe tbody tr th:only-of-type {\n",
              "        vertical-align: middle;\n",
              "    }\n",
              "\n",
              "    .dataframe tbody tr th {\n",
              "        vertical-align: top;\n",
              "    }\n",
              "\n",
              "    .dataframe thead th {\n",
              "        text-align: right;\n",
              "    }\n",
              "</style>\n",
              "<table border=\"1\" class=\"dataframe\">\n",
              "  <thead>\n",
              "    <tr style=\"text-align: right;\">\n",
              "      <th></th>\n",
              "      <th>index</th>\n",
              "      <th>text</th>\n",
              "      <th>Category</th>\n",
              "      <th>categoryId</th>\n",
              "      <th>cleaned_text</th>\n",
              "    </tr>\n",
              "  </thead>\n",
              "  <tbody>\n",
              "    <tr>\n",
              "      <th>10011</th>\n",
              "      <td>10011</td>\n",
              "      <td>திருச்சி திருச்சி அருகே மகள் காதல் திருமணம் செ...</td>\n",
              "      <td>crime</td>\n",
              "      <td>1</td>\n",
              "      <td>திருச்சி திருச்சி அருகே மகள் காதல் திருமணம் செ...</td>\n",
              "    </tr>\n",
              "    <tr>\n",
              "      <th>3551</th>\n",
              "      <td>3551</td>\n",
              "      <td>சட்டமன்ற தேர்தலில் திமுக வெற்றி பெற்றதையடுத்து...</td>\n",
              "      <td>politics</td>\n",
              "      <td>7</td>\n",
              "      <td>சட்டமன்ற தேர்தலில் திமுக வெற்றி பெற்றதையடுத்து...</td>\n",
              "    </tr>\n",
              "    <tr>\n",
              "      <th>8466</th>\n",
              "      <td>8466</td>\n",
              "      <td>தூத்துக்குடி தூத்துக்குடி மாவட்டம் விளாத்திகுள...</td>\n",
              "      <td>crime</td>\n",
              "      <td>1</td>\n",
              "      <td>தூத்துக்குடி தூத்துக்குடி மாவட்டம் விளாத்திகுள...</td>\n",
              "    </tr>\n",
              "    <tr>\n",
              "      <th>29816</th>\n",
              "      <td>29816</td>\n",
              "      <td>கொரோனா இரண்டாவது அலையில் சினிமா பிரபலங்களும், ...</td>\n",
              "      <td>health</td>\n",
              "      <td>2</td>\n",
              "      <td>கொரோனா இரண்டாவது அலையில் சினிமா பிரபலங்களும் அ...</td>\n",
              "    </tr>\n",
              "    <tr>\n",
              "      <th>2091</th>\n",
              "      <td>2091</td>\n",
              "      <td>“கொரோனா தடுப்பு பணிகளுக்காக திமுக எம்.எல்.ஏக்க...</td>\n",
              "      <td>health</td>\n",
              "      <td>2</td>\n",
              "      <td>“கொரோனா தடுப்பு பணிகளுக்காக திமுக எம்எல்ஏக்கள்...</td>\n",
              "    </tr>\n",
              "  </tbody>\n",
              "</table>\n",
              "</div>"
            ],
            "text/plain": [
              "       index  ...                                       cleaned_text\n",
              "10011  10011  ...  திருச்சி திருச்சி அருகே மகள் காதல் திருமணம் செ...\n",
              "3551    3551  ...  சட்டமன்ற தேர்தலில் திமுக வெற்றி பெற்றதையடுத்து...\n",
              "8466    8466  ...  தூத்துக்குடி தூத்துக்குடி மாவட்டம் விளாத்திகுள...\n",
              "29816  29816  ...  கொரோனா இரண்டாவது அலையில் சினிமா பிரபலங்களும் அ...\n",
              "2091    2091  ...  “கொரோனா தடுப்பு பணிகளுக்காக திமுக எம்எல்ஏக்கள்...\n",
              "\n",
              "[5 rows x 5 columns]"
            ]
          },
          "metadata": {},
          "execution_count": 29
        }
      ]
    },
    {
      "cell_type": "code",
      "metadata": {
        "id": "cIt9SrUPM8qd"
      },
      "source": [
        "X_train_cv[\"cleaned_text\"] = d_cv"
      ],
      "execution_count": null,
      "outputs": []
    },
    {
      "cell_type": "code",
      "metadata": {
        "colab": {
          "base_uri": "https://localhost:8080/",
          "height": 424
        },
        "id": "6ANdudWRM8hB",
        "outputId": "5b856671-edc4-4296-fce8-a1de5916a2b8"
      },
      "source": [
        "X_train_cv"
      ],
      "execution_count": null,
      "outputs": [
        {
          "output_type": "execute_result",
          "data": {
            "text/html": [
              "<div>\n",
              "<style scoped>\n",
              "    .dataframe tbody tr th:only-of-type {\n",
              "        vertical-align: middle;\n",
              "    }\n",
              "\n",
              "    .dataframe tbody tr th {\n",
              "        vertical-align: top;\n",
              "    }\n",
              "\n",
              "    .dataframe thead th {\n",
              "        text-align: right;\n",
              "    }\n",
              "</style>\n",
              "<table border=\"1\" class=\"dataframe\">\n",
              "  <thead>\n",
              "    <tr style=\"text-align: right;\">\n",
              "      <th></th>\n",
              "      <th>index</th>\n",
              "      <th>text</th>\n",
              "      <th>Category</th>\n",
              "      <th>categoryId</th>\n",
              "      <th>cleaned_text</th>\n",
              "    </tr>\n",
              "  </thead>\n",
              "  <tbody>\n",
              "    <tr>\n",
              "      <th>10011</th>\n",
              "      <td>10011</td>\n",
              "      <td>திருச்சி திருச்சி அருகே மகள் காதல் திருமணம் செ...</td>\n",
              "      <td>crime</td>\n",
              "      <td>1</td>\n",
              "      <td>திருச்சி திருச்சி அருகே மகள் காதல் திருமணம் செ...</td>\n",
              "    </tr>\n",
              "    <tr>\n",
              "      <th>3551</th>\n",
              "      <td>3551</td>\n",
              "      <td>சட்டமன்ற தேர்தலில் திமுக வெற்றி பெற்றதையடுத்து...</td>\n",
              "      <td>politics</td>\n",
              "      <td>7</td>\n",
              "      <td>சட்டமன்ற தேர்தலில் திமுக வெற்றி பெற்றதையடுத்து...</td>\n",
              "    </tr>\n",
              "    <tr>\n",
              "      <th>8466</th>\n",
              "      <td>8466</td>\n",
              "      <td>தூத்துக்குடி தூத்துக்குடி மாவட்டம் விளாத்திகுள...</td>\n",
              "      <td>crime</td>\n",
              "      <td>1</td>\n",
              "      <td>தூத்துக்குடி தூத்துக்குடி மாவட்டம் விளாத்திகுள...</td>\n",
              "    </tr>\n",
              "    <tr>\n",
              "      <th>29816</th>\n",
              "      <td>29816</td>\n",
              "      <td>கொரோனா இரண்டாவது அலையில் சினிமா பிரபலங்களும், ...</td>\n",
              "      <td>health</td>\n",
              "      <td>2</td>\n",
              "      <td>கொரோனா இரண்டாவது அலையில் சினிமா பிரபலங்களும் அ...</td>\n",
              "    </tr>\n",
              "    <tr>\n",
              "      <th>2091</th>\n",
              "      <td>2091</td>\n",
              "      <td>“கொரோனா தடுப்பு பணிகளுக்காக திமுக எம்.எல்.ஏக்க...</td>\n",
              "      <td>health</td>\n",
              "      <td>2</td>\n",
              "      <td>“கொரோனா தடுப்பு பணிகளுக்காக திமுக எம்எல்ஏக்கள்...</td>\n",
              "    </tr>\n",
              "    <tr>\n",
              "      <th>...</th>\n",
              "      <td>...</td>\n",
              "      <td>...</td>\n",
              "      <td>...</td>\n",
              "      <td>...</td>\n",
              "      <td>...</td>\n",
              "    </tr>\n",
              "    <tr>\n",
              "      <th>9532</th>\n",
              "      <td>9532</td>\n",
              "      <td>கருப்பின சர்ச்சை விவகாரத்தில் தனது அளிக்கப்பட்...</td>\n",
              "      <td>entertainment</td>\n",
              "      <td>0</td>\n",
              "      <td>கருப்பின சர்ச்சை விவகாரத்தில் தனது அளிக்கப்பட்...</td>\n",
              "    </tr>\n",
              "    <tr>\n",
              "      <th>19134</th>\n",
              "      <td>19134</td>\n",
              "      <td>அசைவ உணவு பிரியர்களே !! உங்களுக்கு முட்டை குழம...</td>\n",
              "      <td>others</td>\n",
              "      <td>3</td>\n",
              "      <td>அசைவ உணவு பிரியர்களே !! உங்களுக்கு முட்டை குழம...</td>\n",
              "    </tr>\n",
              "    <tr>\n",
              "      <th>18781</th>\n",
              "      <td>18781</td>\n",
              "      <td>இன்று உங்கள் பேச்சில் பதட்டமும் வேதனையும் பிரத...</td>\n",
              "      <td>others</td>\n",
              "      <td>3</td>\n",
              "      <td>இன்று உங்கள் பேச்சில் பதட்டமும் வேதனையும் பிரத...</td>\n",
              "    </tr>\n",
              "    <tr>\n",
              "      <th>10722</th>\n",
              "      <td>10722</td>\n",
              "      <td>சட்டமன்ற தேர்தலில் திமுக வெற்றி பெற்றதையடுத்து...</td>\n",
              "      <td>health</td>\n",
              "      <td>2</td>\n",
              "      <td>சட்டமன்ற தேர்தலில் திமுக வெற்றி பெற்றதையடுத்து...</td>\n",
              "    </tr>\n",
              "    <tr>\n",
              "      <th>26622</th>\n",
              "      <td>26622</td>\n",
              "      <td>மதுரை யாதவர் கல்லூரியில் சித்த மருத்துவ சிகிச்...</td>\n",
              "      <td>health</td>\n",
              "      <td>2</td>\n",
              "      <td>மதுரை யாதவர் கல்லூரியில் சித்த மருத்துவ சிகிச்...</td>\n",
              "    </tr>\n",
              "  </tbody>\n",
              "</table>\n",
              "<p>4800 rows × 5 columns</p>\n",
              "</div>"
            ],
            "text/plain": [
              "       index  ...                                       cleaned_text\n",
              "10011  10011  ...  திருச்சி திருச்சி அருகே மகள் காதல் திருமணம் செ...\n",
              "3551    3551  ...  சட்டமன்ற தேர்தலில் திமுக வெற்றி பெற்றதையடுத்து...\n",
              "8466    8466  ...  தூத்துக்குடி தூத்துக்குடி மாவட்டம் விளாத்திகுள...\n",
              "29816  29816  ...  கொரோனா இரண்டாவது அலையில் சினிமா பிரபலங்களும் அ...\n",
              "2091    2091  ...  “கொரோனா தடுப்பு பணிகளுக்காக திமுக எம்எல்ஏக்கள்...\n",
              "...      ...  ...                                                ...\n",
              "9532    9532  ...  கருப்பின சர்ச்சை விவகாரத்தில் தனது அளிக்கப்பட்...\n",
              "19134  19134  ...  அசைவ உணவு பிரியர்களே !! உங்களுக்கு முட்டை குழம...\n",
              "18781  18781  ...  இன்று உங்கள் பேச்சில் பதட்டமும் வேதனையும் பிரத...\n",
              "10722  10722  ...  சட்டமன்ற தேர்தலில் திமுக வெற்றி பெற்றதையடுத்து...\n",
              "26622  26622  ...  மதுரை யாதவர் கல்லூரியில் சித்த மருத்துவ சிகிச்...\n",
              "\n",
              "[4800 rows x 5 columns]"
            ]
          },
          "metadata": {},
          "execution_count": 31
        }
      ]
    },
    {
      "cell_type": "code",
      "metadata": {
        "id": "hDfhUTW0Dfw1"
      },
      "source": [
        "X_test.loc[:,'text']=X_test.loc[:,'text'].apply(str)"
      ],
      "execution_count": null,
      "outputs": []
    },
    {
      "cell_type": "code",
      "metadata": {
        "colab": {
          "base_uri": "https://localhost:8080/"
        },
        "id": "q1DboY7GDuYZ",
        "outputId": "2bfc7f5b-0ba8-4722-c7f5-b96fdb68b987"
      },
      "source": [
        "d_test = cl.Structured_Data(X_test.text.values)"
      ],
      "execution_count": null,
      "outputs": [
        {
          "output_type": "stream",
          "name": "stderr",
          "text": [
            "100%|██████████| 6000/6000 [00:01<00:00, 4692.01it/s]\n"
          ]
        }
      ]
    },
    {
      "cell_type": "code",
      "metadata": {
        "id": "yle0UXcUDuKE"
      },
      "source": [
        "X_test[\"cleaned_text\"] = d_test"
      ],
      "execution_count": null,
      "outputs": []
    },
    {
      "cell_type": "code",
      "metadata": {
        "id": "0tQlsIsxEAYG"
      },
      "source": [
        "X_test = X_test.drop(columns=[\"cleaned_text\"])"
      ],
      "execution_count": null,
      "outputs": []
    },
    {
      "cell_type": "code",
      "metadata": {
        "id": "5EB6kCsPNOew"
      },
      "source": [
        "X_test[\"cleaned_text\"] = d_test"
      ],
      "execution_count": null,
      "outputs": []
    },
    {
      "cell_type": "code",
      "metadata": {
        "id": "9c7HhraHEAKs"
      },
      "source": [
        "X_train = X_train[X_train[\"Category\"]!='others']"
      ],
      "execution_count": null,
      "outputs": []
    },
    {
      "cell_type": "code",
      "metadata": {
        "id": "59CnHD5ZxyBQ"
      },
      "source": [
        "X_train_cv= X_train_cv[X_train_cv[\"Category\"]!='others']"
      ],
      "execution_count": null,
      "outputs": []
    },
    {
      "cell_type": "code",
      "metadata": {
        "id": "tQHBhh51yJ6Y"
      },
      "source": [
        "X_test = X_test[X_test[\"Category\"]!='others']\n"
      ],
      "execution_count": null,
      "outputs": []
    },
    {
      "cell_type": "code",
      "metadata": {
        "id": "npp0Aba4PUIY"
      },
      "source": [
        "#vectorization\n",
        "from sklearn.feature_extraction.text import TfidfVectorizer\n",
        "\n",
        "vec = TfidfVectorizer()\n",
        "vec = vec.fit(X_train['cleaned_text'])\n",
        "X_train_bow = vec.transform(X_train['cleaned_text'])\n",
        "X_train_cv_bow = vec.transform(X_train_cv['text'])\n",
        "X_test_bow = vec.transform(X_test['cleaned_text'])\n"
      ],
      "execution_count": null,
      "outputs": []
    },
    {
      "cell_type": "code",
      "metadata": {
        "colab": {
          "base_uri": "https://localhost:8080/"
        },
        "id": "Rm-GqWU8PUIZ",
        "outputId": "1bc8b1f8-10c9-4625-8756-e2cc3f9173a7"
      },
      "source": [
        "print(X_train_bow.shape)\n",
        "print(X_train_cv_bow.shape)\n",
        "print(X_test_bow.shape)"
      ],
      "execution_count": null,
      "outputs": [
        {
          "output_type": "stream",
          "name": "stdout",
          "text": [
            "(15544, 1222)\n",
            "(3886, 1222)\n",
            "(4857, 1222)\n"
          ]
        }
      ]
    },
    {
      "cell_type": "code",
      "metadata": {
        "colab": {
          "base_uri": "https://localhost:8080/"
        },
        "id": "vv_K8T2fPUIZ",
        "outputId": "15180eee-c428-4ee0-8190-05d1efa47daa"
      },
      "source": [
        "from sklearn.preprocessing import LabelEncoder\n",
        "enc_labels = LabelEncoder()\n",
        "X_train.loc[:, \"Category\"] = enc_labels.fit_transform(X_train[\"Category\"])"
      ],
      "execution_count": null,
      "outputs": [
        {
          "output_type": "stream",
          "name": "stderr",
          "text": [
            "/usr/local/lib/python3.7/dist-packages/pandas/core/indexing.py:1743: SettingWithCopyWarning: \n",
            "A value is trying to be set on a copy of a slice from a DataFrame.\n",
            "Try using .loc[row_indexer,col_indexer] = value instead\n",
            "\n",
            "See the caveats in the documentation: https://pandas.pydata.org/pandas-docs/stable/user_guide/indexing.html#returning-a-view-versus-a-copy\n",
            "  isetter(ilocs[0], value)\n"
          ]
        }
      ]
    },
    {
      "cell_type": "code",
      "metadata": {
        "colab": {
          "base_uri": "https://localhost:8080/"
        },
        "id": "P9ZDH2GNPUIZ",
        "outputId": "39a9eda3-81c1-4d05-f5bb-ffda954e03b4"
      },
      "source": [
        "from sklearn.preprocessing import LabelEncoder\n",
        "enc_labels1 = LabelEncoder()\n",
        "X_train_cv.loc[:, \"Category\"] = enc_labels1.fit_transform(X_train_cv[\"Category\"])"
      ],
      "execution_count": null,
      "outputs": [
        {
          "output_type": "stream",
          "name": "stderr",
          "text": [
            "/usr/local/lib/python3.7/dist-packages/pandas/core/indexing.py:1743: SettingWithCopyWarning: \n",
            "A value is trying to be set on a copy of a slice from a DataFrame.\n",
            "Try using .loc[row_indexer,col_indexer] = value instead\n",
            "\n",
            "See the caveats in the documentation: https://pandas.pydata.org/pandas-docs/stable/user_guide/indexing.html#returning-a-view-versus-a-copy\n",
            "  isetter(ilocs[0], value)\n"
          ]
        }
      ]
    },
    {
      "cell_type": "code",
      "metadata": {
        "id": "Iv1gXDqlPUIa"
      },
      "source": [
        "from sklearn.preprocessing import LabelEncoder\n",
        "enc_labels2 = LabelEncoder()\n",
        "X_test.loc[:, \"Category\"] = enc_labels2.fit_transform(X_test[\"Category\"])"
      ],
      "execution_count": null,
      "outputs": []
    },
    {
      "cell_type": "code",
      "metadata": {
        "id": "eHYyn_rnPUIa"
      },
      "source": [
        "y_train_label = np.array(list(X_train['Category']))\n",
        "y_train_cv_label = np.array(list(X_train_cv['Category']))\n",
        "y_test_label = np.array(list(X_test['Category']))"
      ],
      "execution_count": null,
      "outputs": []
    },
    {
      "cell_type": "code",
      "metadata": {
        "id": "yvWpPxSTPUIa"
      },
      "source": [
        "from sklearn.model_selection import GridSearchCV"
      ],
      "execution_count": null,
      "outputs": []
    },
    {
      "cell_type": "code",
      "metadata": {
        "colab": {
          "base_uri": "https://localhost:8080/"
        },
        "id": "7sig9texPUIb",
        "outputId": "47a5ec89-6a70-4c83-ffe4-40cc95b10037"
      },
      "source": [
        "#Importing Multinomial naive Bayes\n",
        "from sklearn.naive_bayes import MultinomialNB\n",
        "alpha = [0.00001, 0.0001, 0.001, 0.1, 1, 10, 100,1000]\n",
        "clf = MultinomialNB()\n",
        "alpha_range = {'alpha': [0.00001, 0.0001, 0.001, 0.1, 1, 10, 100,1000]}\n",
        "clf_Cross = GridSearchCV(clf ,param_grid = alpha_range ,scoring='neg_log_loss',cv=5,return_train_score=True)\n",
        "clf_Cross.fit(X_train_bow,y_train_label)\n",
        "\n",
        "clf_Cross.best_params_\n"
      ],
      "execution_count": null,
      "outputs": [
        {
          "output_type": "execute_result",
          "data": {
            "text/plain": [
              "GridSearchCV(cv=5, estimator=MultinomialNB(),\n",
              "             param_grid={'alpha': [1e-05, 0.0001, 0.001, 0.1, 1, 10, 100,\n",
              "                                   1000]},\n",
              "             return_train_score=True, scoring='neg_log_loss')"
            ]
          },
          "metadata": {},
          "execution_count": 47
        },
        {
          "output_type": "execute_result",
          "data": {
            "text/plain": [
              "{'alpha': 1e-05}"
            ]
          },
          "metadata": {},
          "execution_count": 47
        }
      ]
    },
    {
      "cell_type": "code",
      "metadata": {
        "colab": {
          "base_uri": "https://localhost:8080/"
        },
        "id": "Nlqm_hBuPUIb",
        "outputId": "4372e947-e1a9-4bb0-d350-28a35839b659"
      },
      "source": [
        "from sklearn.calibration import CalibratedClassifierCV\n",
        "nv_clf = MultinomialNB(alpha=1)\n",
        "nv_clf.fit(X_train_bow, y_train_label)\n",
        "sig_clf = CalibratedClassifierCV(nv_clf, method=\"sigmoid\")\n",
        "sig_clf.fit(X_train_bow, y_train_label)"
      ],
      "execution_count": null,
      "outputs": [
        {
          "output_type": "execute_result",
          "data": {
            "text/plain": [
              "MultinomialNB(alpha=1)"
            ]
          },
          "metadata": {},
          "execution_count": 48
        },
        {
          "output_type": "execute_result",
          "data": {
            "text/plain": [
              "CalibratedClassifierCV(base_estimator=MultinomialNB(alpha=1))"
            ]
          },
          "metadata": {},
          "execution_count": 48
        }
      ]
    },
    {
      "cell_type": "code",
      "metadata": {
        "colab": {
          "base_uri": "https://localhost:8080/"
        },
        "id": "ShTAjWaNPUIc",
        "outputId": "5ff01b84-a792-4c94-9db1-0a8813a74a15"
      },
      "source": [
        "\n",
        "predict_y = sig_clf.predict_proba(X_train_bow)\n",
        "predict_acc = nv_clf.predict(X_train_bow)\n",
        "train_acc= accuracy_score(y_train_label, predict_acc)\n",
        "print('For alpha = ', 1, \"The train accuracy is:\",train_acc)\n",
        "print(\"**************************************************************************************\")\n",
        "predict_y = sig_clf.predict_proba(X_train_cv_bow)\n",
        "predict_acc = nv_clf.predict(X_train_cv_bow)\n",
        "print('For alpha = ', 1, \"The cv accuracy is:\",accuracy_score(y_train_cv_label, predict_acc))\n",
        "print(\"**************************************************************************************\")\n",
        "predict_y = sig_clf.predict_proba(X_test_bow)\n",
        "predict_acc = nv_clf.predict(X_test_bow)\n",
        "print('For alpha = ', 1, \"The test accuracy is:\",accuracy_score(y_test_label, predict_acc))"
      ],
      "execution_count": null,
      "outputs": [
        {
          "output_type": "stream",
          "name": "stdout",
          "text": [
            "For alpha =  1 The train accuracy is: 0.9904143077714874\n",
            "**************************************************************************************\n",
            "For alpha =  1 The cv accuracy is: 0.9902213072568193\n",
            "**************************************************************************************\n",
            "For alpha =  1 The test accuracy is: 0.9911467984352481\n"
          ]
        }
      ]
    },
    {
      "cell_type": "code",
      "metadata": {
        "colab": {
          "base_uri": "https://localhost:8080/"
        },
        "id": "XW2Tn4zjstEf",
        "outputId": "20cb7512-83a5-4aa4-b125-789c9b61d3c2"
      },
      "source": [
        "\n",
        "print(classification_report(test_predict, Y_test, target_names=target_category))"
      ],
      "execution_count": null,
      "outputs": [
        {
          "output_type": "stream",
          "name": "stdout",
          "text": [
            "               precision    recall  f1-score   support\n",
            "\n",
            "entertainment       1.00      1.00      1.00       221\n",
            "        crime       1.00      1.00      1.00      1136\n",
            "       health       1.00      1.00      1.00        72\n",
            "       others       0.95      0.95      0.95      1398\n",
            "        sport       1.00      0.96      0.98      3061\n",
            "        world       0.91      0.98      0.95      1600\n",
            "     business       0.91      0.95      0.93       800\n",
            "     politics       1.00      1.00      1.00       263\n",
            "    education       1.00      1.00      1.00        68\n",
            "       social       1.00      1.00      1.00       267\n",
            "      science       1.00      1.00      1.00       114\n",
            "\n",
            "     accuracy                           0.97      9000\n",
            "    macro avg       0.98      0.98      0.98      9000\n",
            " weighted avg       0.97      0.97      0.97      9000\n",
            "\n"
          ]
        }
      ]
    },
    {
      "cell_type": "code",
      "metadata": {
        "id": "oaexB1qDmtn0"
      },
      "source": [
        "\n",
        "cm = confusion_matrix(Y_test, y_pred)\n"
      ],
      "execution_count": null,
      "outputs": []
    },
    {
      "cell_type": "code",
      "metadata": {
        "colab": {
          "base_uri": "https://localhost:8080/"
        },
        "id": "dLGaT8aBr6rx",
        "outputId": "858cb8cf-5ce1-4c12-fccf-3287938b3c19"
      },
      "source": [
        "cm"
      ],
      "execution_count": null,
      "outputs": [
        {
          "output_type": "execute_result",
          "data": {
            "text/plain": [
              "array([[ 221,    0,    0,    0,    0,    0,    0,    0,    0,    0,    0],\n",
              "       [   0, 1136,    0,    0,    0,    0,    0,    0,    0,    0,    0],\n",
              "       [   0,    0,   72,    0,    0,    0,    0,    0,    0,    0,    0],\n",
              "       [   0,    0,    0, 1325,   64,    0,    0,    0,    0,    0,    0],\n",
              "       [   0,    0,    0,    0, 2926,    0,    0,    0,    0,    0,    0],\n",
              "       [   0,    0,    0,   73,   33, 1566,   42,    0,    0,    0,    0],\n",
              "       [   0,    0,    0,    0,   38,   34,  758,    0,    0,    0,    0],\n",
              "       [   0,    0,    0,    0,    0,    0,    0,  263,    0,    0,    0],\n",
              "       [   0,    0,    0,    0,    0,    0,    0,    0,   68,    0,    0],\n",
              "       [   0,    0,    0,    0,    0,    0,    0,    0,    0,  267,    0],\n",
              "       [   0,    0,    0,    0,    0,    0,    0,    0,    0,    0,  114]])"
            ]
          },
          "metadata": {},
          "execution_count": 54
        }
      ]
    },
    {
      "cell_type": "code",
      "metadata": {
        "colab": {
          "base_uri": "https://localhost:8080/",
          "height": 297
        },
        "id": "572_T_ZQsEIr",
        "outputId": "cfb5be6a-96e7-437b-e425-f65eefa0e4a7"
      },
      "source": [
        "\n",
        "#plotting heatmap of confusion matrix\n",
        "sns.heatmap(cm,square=True,annot=True,fmt='d',cbar=False,center=0)\n",
        "\n",
        "plt.xlabel(\"predicted labels\")\n",
        "plt.ylabel(\"true labels\")\n"
      ],
      "execution_count": null,
      "outputs": [
        {
          "output_type": "execute_result",
          "data": {
            "text/plain": [
              "<matplotlib.axes._subplots.AxesSubplot at 0x7fb6da2dac90>"
            ]
          },
          "metadata": {},
          "execution_count": 55
        },
        {
          "output_type": "execute_result",
          "data": {
            "text/plain": [
              "Text(0.5, 15.0, 'predicted labels')"
            ]
          },
          "metadata": {},
          "execution_count": 55
        },
        {
          "output_type": "execute_result",
          "data": {
            "text/plain": [
              "Text(91.68, 0.5, 'true labels')"
            ]
          },
          "metadata": {},
          "execution_count": 55
        },
        {
          "output_type": "display_data",
          "data": {
            "image/png": "[encoded data removed]",
            "text/plain": [
              "<Figure size 432x288 with 1 Axes>"
            ]
          },
          "metadata": {
            "needs_background": "light"
          }
        }
      ]
    },
    {
      "cell_type": "code",
      "metadata": {
        "colab": {
          "base_uri": "https://localhost:8080/",
          "height": 333
        },
        "id": "b7MJ0VC1nvFm",
        "outputId": "57e2966d-1fae-40cf-c7f5-de41bd4aee69"
      },
      "source": [
        "from sklearn.metrics import  plot_confusion_matrix\n",
        "disp=plot_confusion_matrix(nb,y_pred, Y_test)"
      ],
      "execution_count": null,
      "outputs": [
        {
          "output_type": "stream",
          "name": "stderr",
          "text": [
            "/usr/local/lib/python3.7/dist-packages/sklearn/utils/deprecation.py:87: FutureWarning: Function plot_confusion_matrix is deprecated; Function `plot_confusion_matrix` is deprecated in 1.0 and will be removed in 1.2. Use one of the class methods: ConfusionMatrixDisplay.from_predictions or ConfusionMatrixDisplay.from_estimator.\n",
            "  warnings.warn(msg, category=FutureWarning)\n"
          ]
        },
        {
          "output_type": "display_data",
          "data": {
            "image/png": "[encoded data removed]",
            "text/plain": [
              "<Figure size 432x288 with 2 Axes>"
            ]
          },
          "metadata": {
            "needs_background": "light"
          }
        }
      ]
    },
    {
      "cell_type": "code",
      "metadata": {
        "id": "i48ohZSzPUIc"
      },
      "source": [
        "#testing\n",
        "txt=[\"\"\"பிளஸ் 2 தேர்வு ரத்துக்குள் ஒளிந்திருக்கும் ஆபத்துகள். சிபிஎஸ்இ மாணவர்களுக்கான 12ஆம் வகுப்புத் தேர்வை ரத்துசெய்யும் முடிவை ஒன்றிய அரசு எடுத்திருக்கிறது. விரைவில் இது குறித்து முடிவெடுங்கள் என்று உச்ச நீதிமன்றம் கூறுயதையடுத்துப் பிரதமர் நரேந்திர மோடியின் தலைமையில் நடந்த கூட்டத்தில் இந்த முடிவு எடுக்கப்பட்டிருக்கிறது. சிபிஎஸ்இ தேர்வு ரத்து அறிவிப்பைப் பின்பற்றி தமிழக அரசும் அதே முடிவை எடுக்கும் என்ற கருத்து பரவலாக இருந்துவருகிறது. \"\"\"]"
      ],
      "execution_count": null,
      "outputs": []
    },
    {
      "cell_type": "code",
      "metadata": {
        "id": "JoGjaZucNhEJ"
      },
      "source": [
        "txt1=[\"\"\"ராஜமௌலியின் ‘ஆர்.ஆர்.ஆர்’ டிரெய்லர் எப்போது ?.. கசிந்தது புதிய தகவல். ராஜமௌலியின் பிரம்மாண்ட இயக்கத்தில் உருவாகி வருகிறது  ‘ஆர்.ஆர்.ஆர்’. சுதந்திர போராட்ட வீரர்களான சீதராமராஜு, கொமராம்பீம் ஆகியோர் வாழ்க்கையை மையமாக வைத்து இப்படம் உருவாகி வருகிறது. மிகுந்த எதிர்பார்ப்பை ஏற்படுத்தியுள்ள இப்படத்தில் ராம் சரண் மற்றும் ஜூனியர் என்.டி.ஆர் ஆகியோர் இணைந்து நடித்துள்ளனர். \"\"\"]"
      ],
      "execution_count": null,
      "outputs": []
    },
    {
      "cell_type": "code",
      "metadata": {
        "id": "_rVUG3v8PUId",
        "colab": {
          "base_uri": "https://localhost:8080/"
        },
        "outputId": "7c8daea4-fa9a-4841-bb39-2b399ee0bd95"
      },
      "source": [
        "#Prediction for first article\n",
        "cln=cl.Structured_Data(txt)\n",
        "vect=vec.transform(cln)\n",
        "sig_clf.predict(vect)\n",
        "enc_labels.inverse_transform([8])"
      ],
      "execution_count": null,
      "outputs": [
        {
          "output_type": "stream",
          "name": "stderr",
          "text": [
            "100%|██████████| 1/1 [00:00<00:00, 2707.75it/s]\n"
          ]
        },
        {
          "output_type": "execute_result",
          "data": {
            "text/plain": [
              "array([4])"
            ]
          },
          "metadata": {},
          "execution_count": 128
        },
        {
          "output_type": "execute_result",
          "data": {
            "text/plain": [
              "array(['sport'], dtype=object)"
            ]
          },
          "metadata": {},
          "execution_count": 128
        }
      ]
    },
    {
      "cell_type": "code",
      "metadata": {
        "id": "1A_io7afD9IH",
        "colab": {
          "base_uri": "https://localhost:8080/"
        },
        "outputId": "c470a682-62b1-4726-88e6-646c9e6b4887"
      },
      "source": [
        "#prediction for second article\n",
        "cln=cl.Structured_Data(txt1)\n",
        "vect1=vec.transform(cln)\n",
        "sig_clf.predict(vect1)\n",
        "enc_labels.inverse_transform([3])"
      ],
      "execution_count": null,
      "outputs": [
        {
          "output_type": "stream",
          "name": "stderr",
          "text": [
            "100%|██████████| 1/1 [00:00<00:00, 2361.66it/s]\n"
          ]
        },
        {
          "output_type": "execute_result",
          "data": {
            "text/plain": [
              "array([3])"
            ]
          },
          "metadata": {},
          "execution_count": 122
        },
        {
          "output_type": "execute_result",
          "data": {
            "text/plain": [
              "array(['entertainment'], dtype=object)"
            ]
          },
          "metadata": {},
          "execution_count": 122
        }
      ]
    },
    {
      "cell_type": "code",
      "metadata": {
        "id": "6BAALpX3yxB6"
      },
      "source": [
        ""
      ],
      "execution_count": null,
      "outputs": []
    },
    {
      "cell_type": "code",
      "metadata": {
        "id": "hiOFTsS6yxHS"
      },
      "source": [
        ""
      ],
      "execution_count": null,
      "outputs": []
    },
    {
      "cell_type": "code",
      "metadata": {
        "id": "dTb62ZtHyxKN"
      },
      "source": [
        ""
      ],
      "execution_count": null,
      "outputs": []
    },
    {
      "cell_type": "code",
      "metadata": {
        "id": "X8QdNNnAyxNt"
      },
      "source": [
        ""
      ],
      "execution_count": null,
      "outputs": []
    },
    {
      "cell_type": "code",
      "metadata": {
        "id": "hEYbsGXdyxS3"
      },
      "source": [
        ""
      ],
      "execution_count": null,
      "outputs": []
    },
    {
      "cell_type": "code",
      "metadata": {
        "id": "IaXgcaNyKNYd"
      },
      "source": [
        ""
      ],
      "execution_count": null,
      "outputs": []
    },
    {
      "cell_type": "code",
      "metadata": {
        "id": "rxVoGjdPKNda"
      },
      "source": [
        ""
      ],
      "execution_count": null,
      "outputs": []
    },
    {
      "cell_type": "code",
      "metadata": {
        "id": "rtzDCdyJKNgk"
      },
      "source": [
        ""
      ],
      "execution_count": null,
      "outputs": []
    },
    {
      "cell_type": "code",
      "metadata": {
        "id": "00fLgwOkKNim"
      },
      "source": [
        ""
      ],
      "execution_count": null,
      "outputs": []
    },
    {
      "cell_type": "code",
      "metadata": {
        "id": "0ANDc4D-KNlG"
      },
      "source": [
        ""
      ],
      "execution_count": null,
      "outputs": []
    },
    {
      "cell_type": "code",
      "metadata": {
        "id": "n5DC06pRKNpZ"
      },
      "source": [
        ""
      ],
      "execution_count": null,
      "outputs": []
    },
    {
      "cell_type": "code",
      "metadata": {
        "id": "0VQojn0-yxWM"
      },
      "source": [
        ""
      ],
      "execution_count": null,
      "outputs": []
    },
    {
      "cell_type": "code",
      "metadata": {
        "id": "IyFMXUKYyxbR"
      },
      "source": [
        ""
      ],
      "execution_count": null,
      "outputs": []
    },
    {
      "cell_type": "code",
      "metadata": {
        "id": "JuNQ5L44yxej"
      },
      "source": [
        ""
      ],
      "execution_count": null,
      "outputs": []
    },
    {
      "cell_type": "code",
      "metadata": {
        "id": "BHl9-HkizhgE"
      },
      "source": [
        ""
      ],
      "execution_count": null,
      "outputs": []
    },
    {
      "cell_type": "code",
      "metadata": {
        "id": "nqS845Cuzh6e"
      },
      "source": [
        ""
      ],
      "execution_count": null,
      "outputs": []
    },
    {
      "cell_type": "code",
      "metadata": {
        "id": "iUDw-nlhzh_J"
      },
      "source": [
        ""
      ],
      "execution_count": null,
      "outputs": []
    },
    {
      "cell_type": "code",
      "metadata": {
        "id": "39wwd1IeziC_"
      },
      "source": [
        ""
      ],
      "execution_count": null,
      "outputs": []
    },
    {
      "cell_type": "code",
      "metadata": {
        "id": "sX4ad1IEziIO"
      },
      "source": [
        ""
      ],
      "execution_count": null,
      "outputs": []
    },
    {
      "cell_type": "code",
      "metadata": {
        "id": "g5r4ayCTziM6"
      },
      "source": [
        ""
      ],
      "execution_count": null,
      "outputs": []
    },
    {
      "cell_type": "code",
      "metadata": {
        "colab": {
          "base_uri": "https://localhost:8080/"
        },
        "id": "FgVHhb3GyxjO",
        "outputId": "2b3e83a6-e7cb-4cfc-c397-4092dfa317a8"
      },
      "source": [
        "from keras.layers import SpatialDropout1D\n",
        "\n",
        "from sklearn.metrics import classification_report\n",
        "from sklearn.metrics import roc_auc_score\n",
        "from sklearn.metrics import roc_curve\n",
        "from sklearn.metrics import precision_recall_curve\n",
        "from sklearn.model_selection import GridSearchCV\n",
        "from keras.models import Sequential\n",
        "from keras.layers import Dense\n",
        "from keras.layers import LSTM\n",
        "from keras.layers.embeddings import Embedding\n",
        "from keras.preprocessing import sequence\n",
        "from sklearn.feature_selection import RFE\n",
        "import re\n",
        "from IPython.core.interactiveshell import InteractiveShell\n",
        "InteractiveShell.ast_node_interactivity = \"all\"\n",
        "from sklearn.naive_bayes import MultinomialNB\n",
        "from sklearn.naive_bayes import GaussianNB\n",
        "from sklearn.metrics import roc_auc_score\n",
        "from sklearn.pipeline import Pipeline\n",
        "from sklearn.metrics import classification_report\n",
        "from sklearn.metrics import accuracy_score\n",
        "df.loc[:,'text']=df.loc[:,'text'].apply(str)\n",
        "cl = Data_cleaner()\n",
        "lstt = cl.Structured_Data(df.text.values)\n",
        "df['cleaned_text'] = lstt\n",
        "X_train, X_test, Y_train, Y_test = train_test_split(df.cleaned_text,df.Category, test_size = 0.3, random_state = 60,shuffle=True, stratify=df.Category)\n",
        "nb = Pipeline([('tfidf', TfidfVectorizer()),\n",
        "               ('clf', MultinomialNB()),\n",
        "              ])\n",
        "nb.fit(X_train,Y_train)\n",
        "\n",
        "test_predict = nb.predict(X_test)\n",
        "\n",
        "train_accuracy = round(nb.score(X_train,Y_train)*100)\n",
        "test_accuracy =round(accuracy_score(test_predict, Y_test)*100)\n",
        "\n",
        "from sklearn.metrics import confusion_matrix\n",
        "\n",
        "classifier=nb.fit(X_train,Y_train)\n",
        "y_pred = classifier.predict(X_test)\n"
      ],
      "execution_count": null,
      "outputs": [
        {
          "output_type": "stream",
          "name": "stderr",
          "text": [
            "100%|██████████| 30000/30000 [00:06<00:00, 4716.41it/s]\n"
          ]
        },
        {
          "output_type": "execute_result",
          "data": {
            "text/plain": [
              "Pipeline(steps=[('tfidf', TfidfVectorizer()), ('clf', MultinomialNB())])"
            ]
          },
          "metadata": {},
          "execution_count": 50
        }
      ]
    }
  ]
}